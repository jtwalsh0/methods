{
 "cells": [
  {
   "cell_type": "code",
   "execution_count": 1,
   "metadata": {
    "collapsed": true
   },
   "outputs": [],
   "source": [
    "import pandas as pd\n",
    "import numpy as np\n",
    "from math import *\n",
    "\n",
    "from ggplot import *\n",
    "%matplotlib inline"
   ]
  },
  {
   "cell_type": "code",
   "execution_count": 2,
   "metadata": {
    "collapsed": true
   },
   "outputs": [],
   "source": [
    "x = np.random.uniform(size=10000)\n",
    "df = pd.DataFrame({'x':x})"
   ]
  },
  {
   "cell_type": "code",
   "execution_count": 3,
   "metadata": {
    "collapsed": false
   },
   "outputs": [
    {
     "data": {
      "text/html": [
       "<div>\n",
       "<table border=\"1\" class=\"dataframe\">\n",
       "  <thead>\n",
       "    <tr style=\"text-align: right;\">\n",
       "      <th></th>\n",
       "      <th>x</th>\n",
       "    </tr>\n",
       "  </thead>\n",
       "  <tbody>\n",
       "    <tr>\n",
       "      <th>0</th>\n",
       "      <td>0.072513</td>\n",
       "    </tr>\n",
       "    <tr>\n",
       "      <th>1</th>\n",
       "      <td>0.253300</td>\n",
       "    </tr>\n",
       "    <tr>\n",
       "      <th>2</th>\n",
       "      <td>0.264132</td>\n",
       "    </tr>\n",
       "    <tr>\n",
       "      <th>3</th>\n",
       "      <td>0.497089</td>\n",
       "    </tr>\n",
       "    <tr>\n",
       "      <th>4</th>\n",
       "      <td>0.327562</td>\n",
       "    </tr>\n",
       "    <tr>\n",
       "      <th>5</th>\n",
       "      <td>0.805644</td>\n",
       "    </tr>\n",
       "    <tr>\n",
       "      <th>6</th>\n",
       "      <td>0.554565</td>\n",
       "    </tr>\n",
       "    <tr>\n",
       "      <th>7</th>\n",
       "      <td>0.781495</td>\n",
       "    </tr>\n",
       "    <tr>\n",
       "      <th>8</th>\n",
       "      <td>0.108404</td>\n",
       "    </tr>\n",
       "    <tr>\n",
       "      <th>9</th>\n",
       "      <td>0.084446</td>\n",
       "    </tr>\n",
       "    <tr>\n",
       "      <th>10</th>\n",
       "      <td>0.094526</td>\n",
       "    </tr>\n",
       "    <tr>\n",
       "      <th>11</th>\n",
       "      <td>0.282881</td>\n",
       "    </tr>\n",
       "    <tr>\n",
       "      <th>12</th>\n",
       "      <td>0.752968</td>\n",
       "    </tr>\n",
       "    <tr>\n",
       "      <th>13</th>\n",
       "      <td>0.523594</td>\n",
       "    </tr>\n",
       "    <tr>\n",
       "      <th>14</th>\n",
       "      <td>0.449051</td>\n",
       "    </tr>\n",
       "    <tr>\n",
       "      <th>15</th>\n",
       "      <td>0.858123</td>\n",
       "    </tr>\n",
       "    <tr>\n",
       "      <th>16</th>\n",
       "      <td>0.195423</td>\n",
       "    </tr>\n",
       "    <tr>\n",
       "      <th>17</th>\n",
       "      <td>0.461213</td>\n",
       "    </tr>\n",
       "    <tr>\n",
       "      <th>18</th>\n",
       "      <td>0.828477</td>\n",
       "    </tr>\n",
       "    <tr>\n",
       "      <th>19</th>\n",
       "      <td>0.984941</td>\n",
       "    </tr>\n",
       "    <tr>\n",
       "      <th>20</th>\n",
       "      <td>0.912964</td>\n",
       "    </tr>\n",
       "    <tr>\n",
       "      <th>21</th>\n",
       "      <td>0.221273</td>\n",
       "    </tr>\n",
       "    <tr>\n",
       "      <th>22</th>\n",
       "      <td>0.945049</td>\n",
       "    </tr>\n",
       "    <tr>\n",
       "      <th>23</th>\n",
       "      <td>0.292915</td>\n",
       "    </tr>\n",
       "    <tr>\n",
       "      <th>24</th>\n",
       "      <td>0.481010</td>\n",
       "    </tr>\n",
       "    <tr>\n",
       "      <th>25</th>\n",
       "      <td>0.706149</td>\n",
       "    </tr>\n",
       "    <tr>\n",
       "      <th>26</th>\n",
       "      <td>0.146067</td>\n",
       "    </tr>\n",
       "    <tr>\n",
       "      <th>27</th>\n",
       "      <td>0.895416</td>\n",
       "    </tr>\n",
       "    <tr>\n",
       "      <th>28</th>\n",
       "      <td>0.595522</td>\n",
       "    </tr>\n",
       "    <tr>\n",
       "      <th>29</th>\n",
       "      <td>0.336462</td>\n",
       "    </tr>\n",
       "    <tr>\n",
       "      <th>...</th>\n",
       "      <td>...</td>\n",
       "    </tr>\n",
       "    <tr>\n",
       "      <th>9970</th>\n",
       "      <td>0.007064</td>\n",
       "    </tr>\n",
       "    <tr>\n",
       "      <th>9971</th>\n",
       "      <td>0.724118</td>\n",
       "    </tr>\n",
       "    <tr>\n",
       "      <th>9972</th>\n",
       "      <td>0.554650</td>\n",
       "    </tr>\n",
       "    <tr>\n",
       "      <th>9973</th>\n",
       "      <td>0.459887</td>\n",
       "    </tr>\n",
       "    <tr>\n",
       "      <th>9974</th>\n",
       "      <td>0.051312</td>\n",
       "    </tr>\n",
       "    <tr>\n",
       "      <th>9975</th>\n",
       "      <td>0.229116</td>\n",
       "    </tr>\n",
       "    <tr>\n",
       "      <th>9976</th>\n",
       "      <td>0.566065</td>\n",
       "    </tr>\n",
       "    <tr>\n",
       "      <th>9977</th>\n",
       "      <td>0.199357</td>\n",
       "    </tr>\n",
       "    <tr>\n",
       "      <th>9978</th>\n",
       "      <td>0.326220</td>\n",
       "    </tr>\n",
       "    <tr>\n",
       "      <th>9979</th>\n",
       "      <td>0.020046</td>\n",
       "    </tr>\n",
       "    <tr>\n",
       "      <th>9980</th>\n",
       "      <td>0.292492</td>\n",
       "    </tr>\n",
       "    <tr>\n",
       "      <th>9981</th>\n",
       "      <td>0.824453</td>\n",
       "    </tr>\n",
       "    <tr>\n",
       "      <th>9982</th>\n",
       "      <td>0.519788</td>\n",
       "    </tr>\n",
       "    <tr>\n",
       "      <th>9983</th>\n",
       "      <td>0.202991</td>\n",
       "    </tr>\n",
       "    <tr>\n",
       "      <th>9984</th>\n",
       "      <td>0.525610</td>\n",
       "    </tr>\n",
       "    <tr>\n",
       "      <th>9985</th>\n",
       "      <td>0.431355</td>\n",
       "    </tr>\n",
       "    <tr>\n",
       "      <th>9986</th>\n",
       "      <td>0.271368</td>\n",
       "    </tr>\n",
       "    <tr>\n",
       "      <th>9987</th>\n",
       "      <td>0.230260</td>\n",
       "    </tr>\n",
       "    <tr>\n",
       "      <th>9988</th>\n",
       "      <td>0.696701</td>\n",
       "    </tr>\n",
       "    <tr>\n",
       "      <th>9989</th>\n",
       "      <td>0.658683</td>\n",
       "    </tr>\n",
       "    <tr>\n",
       "      <th>9990</th>\n",
       "      <td>0.382630</td>\n",
       "    </tr>\n",
       "    <tr>\n",
       "      <th>9991</th>\n",
       "      <td>0.157093</td>\n",
       "    </tr>\n",
       "    <tr>\n",
       "      <th>9992</th>\n",
       "      <td>0.017767</td>\n",
       "    </tr>\n",
       "    <tr>\n",
       "      <th>9993</th>\n",
       "      <td>0.739052</td>\n",
       "    </tr>\n",
       "    <tr>\n",
       "      <th>9994</th>\n",
       "      <td>0.362400</td>\n",
       "    </tr>\n",
       "    <tr>\n",
       "      <th>9995</th>\n",
       "      <td>0.246848</td>\n",
       "    </tr>\n",
       "    <tr>\n",
       "      <th>9996</th>\n",
       "      <td>0.289741</td>\n",
       "    </tr>\n",
       "    <tr>\n",
       "      <th>9997</th>\n",
       "      <td>0.521627</td>\n",
       "    </tr>\n",
       "    <tr>\n",
       "      <th>9998</th>\n",
       "      <td>0.292689</td>\n",
       "    </tr>\n",
       "    <tr>\n",
       "      <th>9999</th>\n",
       "      <td>0.112791</td>\n",
       "    </tr>\n",
       "  </tbody>\n",
       "</table>\n",
       "<p>10000 rows × 1 columns</p>\n",
       "</div>"
      ],
      "text/plain": [
       "             x\n",
       "0     0.072513\n",
       "1     0.253300\n",
       "2     0.264132\n",
       "3     0.497089\n",
       "4     0.327562\n",
       "5     0.805644\n",
       "6     0.554565\n",
       "7     0.781495\n",
       "8     0.108404\n",
       "9     0.084446\n",
       "10    0.094526\n",
       "11    0.282881\n",
       "12    0.752968\n",
       "13    0.523594\n",
       "14    0.449051\n",
       "15    0.858123\n",
       "16    0.195423\n",
       "17    0.461213\n",
       "18    0.828477\n",
       "19    0.984941\n",
       "20    0.912964\n",
       "21    0.221273\n",
       "22    0.945049\n",
       "23    0.292915\n",
       "24    0.481010\n",
       "25    0.706149\n",
       "26    0.146067\n",
       "27    0.895416\n",
       "28    0.595522\n",
       "29    0.336462\n",
       "...        ...\n",
       "9970  0.007064\n",
       "9971  0.724118\n",
       "9972  0.554650\n",
       "9973  0.459887\n",
       "9974  0.051312\n",
       "9975  0.229116\n",
       "9976  0.566065\n",
       "9977  0.199357\n",
       "9978  0.326220\n",
       "9979  0.020046\n",
       "9980  0.292492\n",
       "9981  0.824453\n",
       "9982  0.519788\n",
       "9983  0.202991\n",
       "9984  0.525610\n",
       "9985  0.431355\n",
       "9986  0.271368\n",
       "9987  0.230260\n",
       "9988  0.696701\n",
       "9989  0.658683\n",
       "9990  0.382630\n",
       "9991  0.157093\n",
       "9992  0.017767\n",
       "9993  0.739052\n",
       "9994  0.362400\n",
       "9995  0.246848\n",
       "9996  0.289741\n",
       "9997  0.521627\n",
       "9998  0.292689\n",
       "9999  0.112791\n",
       "\n",
       "[10000 rows x 1 columns]"
      ]
     },
     "execution_count": 3,
     "metadata": {},
     "output_type": "execute_result"
    }
   ],
   "source": [
    "df"
   ]
  },
  {
   "cell_type": "code",
   "execution_count": 4,
   "metadata": {
    "collapsed": false
   },
   "outputs": [
    {
     "name": "stderr",
     "output_type": "stream",
     "text": [
      "stat_bin: binwidth defaulted to range/30.\n",
      "    Use 'binwidth = x' to adjust this.\n"
     ]
    },
    {
     "data": {
      "image/png": "[encoded data removed]",
      "text/plain": [
       "<matplotlib.figure.Figure at 0x10c75ccd0>"
      ]
     },
     "metadata": {},
     "output_type": "display_data"
    },
    {
     "data": {
      "text/plain": [
       "<ggplot: (281500845)>"
      ]
     },
     "execution_count": 4,
     "metadata": {},
     "output_type": "execute_result"
    }
   ],
   "source": [
    "ggplot(aes(x='x'), data=df) + geom_histogram()"
   ]
  },
  {
   "cell_type": "markdown",
   "metadata": {},
   "source": [
    "##Inversion sampling example\n",
    "\n",
    "First find the normalizing constant:\n",
    "* $f_X(X=x) = cx^2, 0 \\leq x \\leq 2$\n",
    "* $1 = c\\int_0^2x^2dx$\n",
    "* $= c[\\frac{1}{3}x^3 + d]_0^2$\n",
    "* $= c[\\frac{8}{3} + d - d]$\n",
    "* $= c[\\frac{8}{3}]$\n",
    "* $f_X(X=x) = \\frac{3}{8}x^2, 0 \\leq x \\leq 2$\n",
    "\n",
    "Next find the cumulative distribution function:\n",
    "* $F_X(X=x) = \\int_0^x \\frac{3}{8}x^2dx$\n",
    "* $=\\frac{3}{8}[\\frac{1}{3}x^3 + d]_0^x$\n",
    "* $=\\frac{3}{8}[\\frac{1}{3}x^3 + d - d]$\n",
    "* $=\\frac{1}{8}x^3$\n",
    "\n",
    "We can randomly generate values from a standard uniform distribution and set equal to the CDF. Solve for $x$. Plug the randomly generated values into the equation and plot the histogram or density of $x$ to get the shape of the distribution:\n",
    "* $u = \\frac{1}{8}x^3$\n",
    "* $x^3 = 8u$\n",
    "* $x = 2u^{\\frac{1}{3}}$"
   ]
  },
  {
   "cell_type": "code",
   "execution_count": 41,
   "metadata": {
    "collapsed": false
   },
   "outputs": [
    {
     "name": "stdout",
     "output_type": "stream",
     "text": [
      "                   x\n",
      "count  100000.000000\n",
      "mean        1.499664\n",
      "std         0.387398\n",
      "min         0.021286\n",
      "25%         1.260849\n",
      "50%         1.587595\n",
      "75%         1.816844\n",
      "max         1.999999\n"
     ]
    },
    {
     "data": {
      "image/png": "[encoded data removed]",
      "text/plain": [
       "<matplotlib.figure.Figure at 0x110c697d0>"
      ]
     },
     "metadata": {},
     "output_type": "display_data"
    },
    {
     "data": {
      "text/plain": [
       "<ggplot: (286026045)>"
      ]
     },
     "execution_count": 41,
     "metadata": {},
     "output_type": "execute_result"
    }
   ],
   "source": [
    "u = np.random.uniform(size=100000)\n",
    "x = 2 * u**.3333\n",
    "\n",
    "df = pd.DataFrame({'x':x})\n",
    "print df.describe()\n",
    "ggplot(aes(x='x'), data=df) + geom_histogram()"
   ]
  },
  {
   "cell_type": "markdown",
   "metadata": {},
   "source": [
    "## Joint Distribution"
   ]
  },
  {
   "cell_type": "markdown",
   "metadata": {},
   "source": [
    "Find the normalizing constant:\n",
    "* $f_{X,Y}(X=x,Y=y) = c(2x + y), 0 \\leq x \\leq 2, 0 \\leq y \\leq 2$ \n",
    "* $1 = \\int_0^2 \\int_0^2 c(2x + y) dy dx$\n",
    "* $  = c\\int_0^2 [2xy + \\frac{1}{2}y^2 + d]_0^2 dx$\n",
    "* $  = c\\int_0^2 [4x + \\frac{1}{2}4 + d - d] dx$\n",
    "* $  = c\\int_0^2 (4x + 2) dx$\n",
    "* $  = c[2x^2 + 2x + d]_0^2$\n",
    "* $  = c[2(4) + 2(2) + d - d]$\n",
    "* $  = 12c$\n",
    "* $c = \\frac{1}{12}$\n",
    "* $f_{X,Y}(X=x,Y=y) = \\frac{1}{12}(2x + y), 0 \\leq x \\leq 2, 0 \\leq y \\leq 2$"
   ]
  },
  {
   "cell_type": "code",
   "execution_count": 5,
   "metadata": {
    "collapsed": true
   },
   "outputs": [],
   "source": [
    "x = np.random.uniform(size=10000)\n",
    "y = np.random.uniform(size=10000)"
   ]
  },
  {
   "cell_type": "markdown",
   "metadata": {},
   "source": [
    "Find the marginal distribution:\n",
    "* $f_{X,Y}(X=x,Y=y) = \\frac{1}{12}(2x + y), 0 \\leq x \\leq 2, 0 \\leq y \\leq 2$\n",
    "* $f_X(X=x) = \\int_0^2 \\frac{1}{12}(2x + y) dy$\n",
    "* $ = \\frac{1}{12}[2xy + \\frac{1}{2}y^2 + d]_0^2$\n",
    "* $ = \\frac{1}{12}[4x + 2 + d - d]$\n",
    "* $ = \\frac{4x + 2}{12}$\n",
    "* $ = \\frac{2x + 1}{6}$"
   ]
  },
  {
   "cell_type": "markdown",
   "metadata": {
    "collapsed": true
   },
   "source": [
    "Inversion sampling example:\n",
    "* $F_X(X=x) = \\int_0^x \\dfrac{2x+1}{6}dx$\n",
    "* $= \\frac{1}{6}[x^2 + x + d]_0^x$\n",
    "* $= \\frac{x(x + 1)}{6}$\n",
    "* $u = \\frac{x^2 + x}{6}$\n",
    "* $0 = x^2 + x - 6u$\n",
    "* $x = \\frac{-1 \\pm \\sqrt{1 + 4 \\times 6u}}{2}$"
   ]
  },
  {
   "cell_type": "code",
   "execution_count": 8,
   "metadata": {
    "collapsed": false
   },
   "outputs": [
    {
     "data": {
      "image/png": "[encoded data removed]",
      "text/plain": [
       "<matplotlib.figure.Figure at 0x10a8978d0>"
      ]
     },
     "metadata": {},
     "output_type": "display_data"
    },
    {
     "data": {
      "text/plain": [
       "<ggplot: (279378645)>"
      ]
     },
     "execution_count": 8,
     "metadata": {},
     "output_type": "execute_result"
    }
   ],
   "source": [
    "u = np.random.uniform(size=100000)\n",
    "x = (-1 + (1 + 24*u)**.5) / 2\n",
    "df = pd.DataFrame({'x':x})\n",
    "ggplot(aes(x='x'), data=df) + geom_histogram()"
   ]
  },
  {
   "cell_type": "code",
   "execution_count": null,
   "metadata": {
    "collapsed": true
   },
   "outputs": [],
   "source": []
  }
 ],
 "metadata": {
  "kernelspec": {
   "display_name": "Python 2",
   "language": "python",
   "name": "python2"
  },
  "language_info": {
   "codemirror_mode": {
    "name": "ipython",
    "version": 2
   },
   "file_extension": ".py",
   "mimetype": "text/x-python",
   "name": "python",
   "nbconvert_exporter": "python",
   "pygments_lexer": "ipython2",
   "version": "2.7.10"
  }
 },
 "nbformat": 4,
 "nbformat_minor": 0
}
