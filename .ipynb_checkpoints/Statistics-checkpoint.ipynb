{
 "cells": [
  {
   "cell_type": "code",
   "execution_count": 1,
   "metadata": {
    "collapsed": true
   },
   "outputs": [],
   "source": [
    "import pandas as pd\n",
    "import numpy as np\n",
    "from ggplot import *\n",
    "%matplotlib inline"
   ]
  },
  {
   "cell_type": "code",
   "execution_count": 2,
   "metadata": {
    "collapsed": true
   },
   "outputs": [],
   "source": [
    "x = np.random.uniform(size=10000)\n",
    "df = pd.DataFrame({'x':x})"
   ]
  },
  {
   "cell_type": "code",
   "execution_count": 3,
   "metadata": {
    "collapsed": false
   },
   "outputs": [
    {
     "data": {
      "text/html": [
       "<div>\n",
       "<table border=\"1\" class=\"dataframe\">\n",
       "  <thead>\n",
       "    <tr style=\"text-align: right;\">\n",
       "      <th></th>\n",
       "      <th>x</th>\n",
       "    </tr>\n",
       "  </thead>\n",
       "  <tbody>\n",
       "    <tr>\n",
       "      <th>0</th>\n",
       "      <td>0.853907</td>\n",
       "    </tr>\n",
       "    <tr>\n",
       "      <th>1</th>\n",
       "      <td>0.811994</td>\n",
       "    </tr>\n",
       "    <tr>\n",
       "      <th>2</th>\n",
       "      <td>0.805713</td>\n",
       "    </tr>\n",
       "    <tr>\n",
       "      <th>3</th>\n",
       "      <td>0.982260</td>\n",
       "    </tr>\n",
       "    <tr>\n",
       "      <th>4</th>\n",
       "      <td>0.877326</td>\n",
       "    </tr>\n",
       "  </tbody>\n",
       "</table>\n",
       "</div>"
      ],
      "text/plain": [
       "          x\n",
       "0  0.853907\n",
       "1  0.811994\n",
       "2  0.805713\n",
       "3  0.982260\n",
       "4  0.877326"
      ]
     },
     "execution_count": 3,
     "metadata": {},
     "output_type": "execute_result"
    }
   ],
   "source": [
    "df.head()"
   ]
  },
  {
   "cell_type": "code",
   "execution_count": 4,
   "metadata": {
    "collapsed": false
   },
   "outputs": [
    {
     "name": "stderr",
     "output_type": "stream",
     "text": [
      "stat_bin: binwidth defaulted to range/30.\n",
      "    Use 'binwidth = x' to adjust this.\n"
     ]
    },
    {
     "data": {
      "image/png": "[encoded data removed]",
      "text/plain": [
       "<matplotlib.figure.Figure at 0x10952fbd0>"
      ]
     },
     "metadata": {},
     "output_type": "display_data"
    },
    {
     "data": {
      "text/plain": [
       "<ggplot: (278205685)>"
      ]
     },
     "execution_count": 4,
     "metadata": {},
     "output_type": "execute_result"
    }
   ],
   "source": [
    "ggplot(aes(x='x'), data=df) + geom_histogram()"
   ]
  },
  {
   "cell_type": "markdown",
   "metadata": {},
   "source": [
    "## Joint Distribution"
   ]
  },
  {
   "cell_type": "markdown",
   "metadata": {},
   "source": [
    "Find the normalizing constant:\n",
    "* $f_{X,Y}(X=x,Y=y) = c(2x + y), 0 \\leq x \\leq 2, 0 \\leq y \\leq 2$ \n",
    "* $1 = \\int_0^2 \\int_0^2 c(2x + y) dy dx$\n",
    "* $  = c\\int_0^2 [2xy + \\dfrac{1}{2}y^2 + d]_0^2 dx$\n",
    "* $  = c\\int_0^2 [4x + \\dfrac{1}{2}4 + d - d] dx$\n",
    "* $  = c\\int_0^2 (4x + 2) dx$\n",
    "* $  = c[2x^2 + 2x + d]_0^2$\n",
    "* $  = c[2(4) + 2(2) + d - d]$\n",
    "* $  = 12c$\n",
    "* $c = \\dfrac{1}{12}$\n",
    "* $f_{X,Y}(X=x,Y=y) = \\dfrac{1}{12}(2x + y), 0 \\leq x \\leq 2, 0 \\leq y \\leq 2$"
   ]
  },
  {
   "cell_type": "code",
   "execution_count": null,
   "metadata": {
    "collapsed": true
   },
   "outputs": [],
   "source": [
    "x = np.random.uniform(size=10000)\n",
    "y = np.random.uniform(size=10000)"
   ]
  },
  {
   "cell_type": "markdown",
   "metadata": {},
   "source": [
    "Find the marginal distribution:\n",
    "* $f_{X,Y}(X=x,Y=y) = \\dfrac{1}{12}(2x + y), 0 \\leq x \\leq 2, 0 \\leq y \\leq 2$\n",
    "* $f_X(X=x) = \\int_0^2 \\dfrac{1}{12}(2x + y) dy$\n",
    "* $ = \\dfrac{1}{12}[2xy + \\dfrac{1}{2}y^2 + d]_0^2$\n",
    "* $ = \\dfrac{1}{12}[4x + 2 + d - d]$\n",
    "* $ = \\dfrac{4x + 2}{12}$\n",
    "* $ = \\dfrac{2x + 1}{6}$"
   ]
  },
  {
   "cell_type": "code",
   "execution_count": null,
   "metadata": {
    "collapsed": true
   },
   "outputs": [],
   "source": []
  }
 ],
 "metadata": {
  "kernelspec": {
   "display_name": "Python 2",
   "language": "python",
   "name": "python2"
  },
  "language_info": {
   "codemirror_mode": {
    "name": "ipython",
    "version": 2
   },
   "file_extension": ".py",
   "mimetype": "text/x-python",
   "name": "python",
   "nbconvert_exporter": "python",
   "pygments_lexer": "ipython2",
   "version": "2.7.10"
  }
 },
 "nbformat": 4,
 "nbformat_minor": 0
}
