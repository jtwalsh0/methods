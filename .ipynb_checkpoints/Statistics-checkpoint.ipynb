{
 "cells": [
  {
   "cell_type": "code",
   "execution_count": 1,
   "metadata": {
    "collapsed": true
   },
   "outputs": [],
   "source": [
    "import pandas as pd\n",
    "import numpy as np\n",
    "from math import *\n",
    "\n",
    "from ggplot import *\n",
    "%matplotlib inline"
   ]
  },
  {
   "cell_type": "code",
   "execution_count": 4,
   "metadata": {
    "collapsed": true
   },
   "outputs": [],
   "source": [
    "x = np.random.uniform(size=100000)\n",
    "df = pd.DataFrame({'x':x})"
   ]
  },
  {
   "cell_type": "code",
   "execution_count": 5,
   "metadata": {
    "collapsed": false
   },
   "outputs": [
    {
     "data": {
      "text/html": [
       "<div>\n",
       "<table border=\"1\" class=\"dataframe\">\n",
       "  <thead>\n",
       "    <tr style=\"text-align: right;\">\n",
       "      <th></th>\n",
       "      <th>x</th>\n",
       "    </tr>\n",
       "  </thead>\n",
       "  <tbody>\n",
       "    <tr>\n",
       "      <th>0</th>\n",
       "      <td>0.072823</td>\n",
       "    </tr>\n",
       "    <tr>\n",
       "      <th>1</th>\n",
       "      <td>0.333318</td>\n",
       "    </tr>\n",
       "    <tr>\n",
       "      <th>2</th>\n",
       "      <td>0.589766</td>\n",
       "    </tr>\n",
       "    <tr>\n",
       "      <th>3</th>\n",
       "      <td>0.725427</td>\n",
       "    </tr>\n",
       "    <tr>\n",
       "      <th>4</th>\n",
       "      <td>0.254256</td>\n",
       "    </tr>\n",
       "    <tr>\n",
       "      <th>5</th>\n",
       "      <td>0.994160</td>\n",
       "    </tr>\n",
       "    <tr>\n",
       "      <th>6</th>\n",
       "      <td>0.356303</td>\n",
       "    </tr>\n",
       "    <tr>\n",
       "      <th>7</th>\n",
       "      <td>0.968033</td>\n",
       "    </tr>\n",
       "    <tr>\n",
       "      <th>8</th>\n",
       "      <td>0.526983</td>\n",
       "    </tr>\n",
       "    <tr>\n",
       "      <th>9</th>\n",
       "      <td>0.232518</td>\n",
       "    </tr>\n",
       "    <tr>\n",
       "      <th>10</th>\n",
       "      <td>0.527262</td>\n",
       "    </tr>\n",
       "    <tr>\n",
       "      <th>11</th>\n",
       "      <td>0.683994</td>\n",
       "    </tr>\n",
       "    <tr>\n",
       "      <th>12</th>\n",
       "      <td>0.069104</td>\n",
       "    </tr>\n",
       "    <tr>\n",
       "      <th>13</th>\n",
       "      <td>0.442857</td>\n",
       "    </tr>\n",
       "    <tr>\n",
       "      <th>14</th>\n",
       "      <td>0.972388</td>\n",
       "    </tr>\n",
       "    <tr>\n",
       "      <th>15</th>\n",
       "      <td>0.369894</td>\n",
       "    </tr>\n",
       "    <tr>\n",
       "      <th>16</th>\n",
       "      <td>0.624445</td>\n",
       "    </tr>\n",
       "    <tr>\n",
       "      <th>17</th>\n",
       "      <td>0.072818</td>\n",
       "    </tr>\n",
       "    <tr>\n",
       "      <th>18</th>\n",
       "      <td>0.508043</td>\n",
       "    </tr>\n",
       "    <tr>\n",
       "      <th>19</th>\n",
       "      <td>0.267760</td>\n",
       "    </tr>\n",
       "    <tr>\n",
       "      <th>20</th>\n",
       "      <td>0.634653</td>\n",
       "    </tr>\n",
       "    <tr>\n",
       "      <th>21</th>\n",
       "      <td>0.382272</td>\n",
       "    </tr>\n",
       "    <tr>\n",
       "      <th>22</th>\n",
       "      <td>0.185888</td>\n",
       "    </tr>\n",
       "    <tr>\n",
       "      <th>23</th>\n",
       "      <td>0.670246</td>\n",
       "    </tr>\n",
       "    <tr>\n",
       "      <th>24</th>\n",
       "      <td>0.447122</td>\n",
       "    </tr>\n",
       "    <tr>\n",
       "      <th>25</th>\n",
       "      <td>0.930639</td>\n",
       "    </tr>\n",
       "    <tr>\n",
       "      <th>26</th>\n",
       "      <td>0.037773</td>\n",
       "    </tr>\n",
       "    <tr>\n",
       "      <th>27</th>\n",
       "      <td>0.762964</td>\n",
       "    </tr>\n",
       "    <tr>\n",
       "      <th>28</th>\n",
       "      <td>0.338128</td>\n",
       "    </tr>\n",
       "    <tr>\n",
       "      <th>29</th>\n",
       "      <td>0.308757</td>\n",
       "    </tr>\n",
       "    <tr>\n",
       "      <th>...</th>\n",
       "      <td>...</td>\n",
       "    </tr>\n",
       "    <tr>\n",
       "      <th>99970</th>\n",
       "      <td>0.968960</td>\n",
       "    </tr>\n",
       "    <tr>\n",
       "      <th>99971</th>\n",
       "      <td>0.976037</td>\n",
       "    </tr>\n",
       "    <tr>\n",
       "      <th>99972</th>\n",
       "      <td>0.599949</td>\n",
       "    </tr>\n",
       "    <tr>\n",
       "      <th>99973</th>\n",
       "      <td>0.062972</td>\n",
       "    </tr>\n",
       "    <tr>\n",
       "      <th>99974</th>\n",
       "      <td>0.222659</td>\n",
       "    </tr>\n",
       "    <tr>\n",
       "      <th>99975</th>\n",
       "      <td>0.425420</td>\n",
       "    </tr>\n",
       "    <tr>\n",
       "      <th>99976</th>\n",
       "      <td>0.364649</td>\n",
       "    </tr>\n",
       "    <tr>\n",
       "      <th>99977</th>\n",
       "      <td>0.853154</td>\n",
       "    </tr>\n",
       "    <tr>\n",
       "      <th>99978</th>\n",
       "      <td>0.868834</td>\n",
       "    </tr>\n",
       "    <tr>\n",
       "      <th>99979</th>\n",
       "      <td>0.302208</td>\n",
       "    </tr>\n",
       "    <tr>\n",
       "      <th>99980</th>\n",
       "      <td>0.065341</td>\n",
       "    </tr>\n",
       "    <tr>\n",
       "      <th>99981</th>\n",
       "      <td>0.176708</td>\n",
       "    </tr>\n",
       "    <tr>\n",
       "      <th>99982</th>\n",
       "      <td>0.400384</td>\n",
       "    </tr>\n",
       "    <tr>\n",
       "      <th>99983</th>\n",
       "      <td>0.133862</td>\n",
       "    </tr>\n",
       "    <tr>\n",
       "      <th>99984</th>\n",
       "      <td>0.561546</td>\n",
       "    </tr>\n",
       "    <tr>\n",
       "      <th>99985</th>\n",
       "      <td>0.907003</td>\n",
       "    </tr>\n",
       "    <tr>\n",
       "      <th>99986</th>\n",
       "      <td>0.873324</td>\n",
       "    </tr>\n",
       "    <tr>\n",
       "      <th>99987</th>\n",
       "      <td>0.553295</td>\n",
       "    </tr>\n",
       "    <tr>\n",
       "      <th>99988</th>\n",
       "      <td>0.743294</td>\n",
       "    </tr>\n",
       "    <tr>\n",
       "      <th>99989</th>\n",
       "      <td>0.208195</td>\n",
       "    </tr>\n",
       "    <tr>\n",
       "      <th>99990</th>\n",
       "      <td>0.467326</td>\n",
       "    </tr>\n",
       "    <tr>\n",
       "      <th>99991</th>\n",
       "      <td>0.074584</td>\n",
       "    </tr>\n",
       "    <tr>\n",
       "      <th>99992</th>\n",
       "      <td>0.230796</td>\n",
       "    </tr>\n",
       "    <tr>\n",
       "      <th>99993</th>\n",
       "      <td>0.313990</td>\n",
       "    </tr>\n",
       "    <tr>\n",
       "      <th>99994</th>\n",
       "      <td>0.585190</td>\n",
       "    </tr>\n",
       "    <tr>\n",
       "      <th>99995</th>\n",
       "      <td>0.411894</td>\n",
       "    </tr>\n",
       "    <tr>\n",
       "      <th>99996</th>\n",
       "      <td>0.795058</td>\n",
       "    </tr>\n",
       "    <tr>\n",
       "      <th>99997</th>\n",
       "      <td>0.907080</td>\n",
       "    </tr>\n",
       "    <tr>\n",
       "      <th>99998</th>\n",
       "      <td>0.568661</td>\n",
       "    </tr>\n",
       "    <tr>\n",
       "      <th>99999</th>\n",
       "      <td>0.434893</td>\n",
       "    </tr>\n",
       "  </tbody>\n",
       "</table>\n",
       "<p>100000 rows × 1 columns</p>\n",
       "</div>"
      ],
      "text/plain": [
       "              x\n",
       "0      0.072823\n",
       "1      0.333318\n",
       "2      0.589766\n",
       "3      0.725427\n",
       "4      0.254256\n",
       "5      0.994160\n",
       "6      0.356303\n",
       "7      0.968033\n",
       "8      0.526983\n",
       "9      0.232518\n",
       "10     0.527262\n",
       "11     0.683994\n",
       "12     0.069104\n",
       "13     0.442857\n",
       "14     0.972388\n",
       "15     0.369894\n",
       "16     0.624445\n",
       "17     0.072818\n",
       "18     0.508043\n",
       "19     0.267760\n",
       "20     0.634653\n",
       "21     0.382272\n",
       "22     0.185888\n",
       "23     0.670246\n",
       "24     0.447122\n",
       "25     0.930639\n",
       "26     0.037773\n",
       "27     0.762964\n",
       "28     0.338128\n",
       "29     0.308757\n",
       "...         ...\n",
       "99970  0.968960\n",
       "99971  0.976037\n",
       "99972  0.599949\n",
       "99973  0.062972\n",
       "99974  0.222659\n",
       "99975  0.425420\n",
       "99976  0.364649\n",
       "99977  0.853154\n",
       "99978  0.868834\n",
       "99979  0.302208\n",
       "99980  0.065341\n",
       "99981  0.176708\n",
       "99982  0.400384\n",
       "99983  0.133862\n",
       "99984  0.561546\n",
       "99985  0.907003\n",
       "99986  0.873324\n",
       "99987  0.553295\n",
       "99988  0.743294\n",
       "99989  0.208195\n",
       "99990  0.467326\n",
       "99991  0.074584\n",
       "99992  0.230796\n",
       "99993  0.313990\n",
       "99994  0.585190\n",
       "99995  0.411894\n",
       "99996  0.795058\n",
       "99997  0.907080\n",
       "99998  0.568661\n",
       "99999  0.434893\n",
       "\n",
       "[100000 rows x 1 columns]"
      ]
     },
     "execution_count": 5,
     "metadata": {},
     "output_type": "execute_result"
    }
   ],
   "source": [
    "df"
   ]
  },
  {
   "cell_type": "code",
   "execution_count": 6,
   "metadata": {
    "collapsed": false
   },
   "outputs": [
    {
     "name": "stderr",
     "output_type": "stream",
     "text": [
      "stat_bin: binwidth defaulted to range/30.\n",
      "    Use 'binwidth = x' to adjust this.\n"
     ]
    },
    {
     "data": {
      "image/png": "[encoded data removed]",
      "text/plain": [
       "<matplotlib.figure.Figure at 0x10c7c2ed0>"
      ]
     },
     "metadata": {},
     "output_type": "display_data"
    },
    {
     "data": {
      "text/plain": [
       "<ggplot: (281526977)>"
      ]
     },
     "execution_count": 6,
     "metadata": {},
     "output_type": "execute_result"
    }
   ],
   "source": [
    "ggplot(aes(x='x'), data=df) + geom_histogram()"
   ]
  },
  {
   "cell_type": "code",
   "execution_count": 9,
   "metadata": {
    "collapsed": false
   },
   "outputs": [
    {
     "data": {
      "text/latex": [
       "x = y"
      ],
      "text/plain": [
       "<IPython.core.display.Latex object>"
      ]
     },
     "metadata": {},
     "output_type": "display_data"
    }
   ],
   "source": [
    "%%latex\n",
    "x = y"
   ]
  },
  {
   "cell_type": "markdown",
   "metadata": {},
   "source": [
    "##Inversion sampling example\n",
    "\n",
    "First find the normalizing constant:\n",
    "$$\n",
    "\\begin{align*}\n",
    "    f_X(X=x) &&= cx^2, 0 \\leq x \\leq 2 \\\\\n",
    "    1 &&= c\\int_0^2 x^2 dx \\\\\n",
    "    &&= c[\\frac{1}{3}x^3 + d]_0^2 \\\\\n",
    "    &&= c[\\frac{8}{3} + d - d] \\\\\n",
    "    &&= c[\\frac{8}{3}] \\\\\n",
    "    f_X(X=x) &&= \\frac{3}{8}x^2, 0 \\leq x \\leq 2\n",
    "\\end{align*}\n",
    "$$\n",
    "\n",
    "Next find the cumulative distribution function:\n",
    "* $F_X(X=x) = \\int_0^x \\frac{3}{8}x^2dx$\n",
    "* $=\\frac{3}{8}[\\frac{1}{3}x^3 + d]_0^x$\n",
    "* $=\\frac{3}{8}[\\frac{1}{3}x^3 + d - d]$\n",
    "* $=\\frac{1}{8}x^3$\n",
    "\n",
    "We can randomly generate values from a standard uniform distribution and set equal to the CDF. Solve for $x$. Plug the randomly generated values into the equation and plot the histogram or density of $x$ to get the shape of the distribution:\n",
    "* $u = \\frac{1}{8}x^3$\n",
    "* $x^3 = 8u$\n",
    "* $x = 2u^{\\frac{1}{3}}$"
   ]
  },
  {
   "cell_type": "code",
   "execution_count": 13,
   "metadata": {
    "collapsed": false
   },
   "outputs": [
    {
     "data": {
      "text/latex": [
       "\n",
       "\\begin{align*}\n",
       "    f_X(X=x) &= cx^2, 0 \\leq x \\leq 2 \\\\\n",
       "    1 &= c\\int_0^2 x^2 dx \\\\\n",
       "    &= c[\\frac{1}{3}x^3 + d]_0^2 \\\\\n",
       "    &= c[\\frac{8}{3} + d - d] \\\\\n",
       "    &= c[\\frac{8}{3}] \\\\\n",
       "    f_X(X=x) &= \\frac{3}{8}x^2, 0 \\leq x \\leq 2\n",
       "\\end{align*}"
      ],
      "text/plain": [
       "<IPython.core.display.Latex object>"
      ]
     },
     "metadata": {},
     "output_type": "display_data"
    }
   ],
   "source": [
    "%%latex\n",
    "\n",
    "\\begin{align*}\n",
    "    f_X(X=x) &= cx^2, 0 \\leq x \\leq 2 \\\\\n",
    "    1 &= c\\int_0^2 x^2 dx \\\\\n",
    "    &= c[\\frac{1}{3}x^3 + d]_0^2 \\\\\n",
    "    &= c[\\frac{8}{3} + d - d] \\\\\n",
    "    &= c[\\frac{8}{3}] \\\\\n",
    "    f_X(X=x) &= \\frac{3}{8}x^2, 0 \\leq x \\leq 2\n",
    "\\end{align*}"
   ]
  },
  {
   "cell_type": "code",
   "execution_count": 41,
   "metadata": {
    "collapsed": false
   },
   "outputs": [
    {
     "name": "stdout",
     "output_type": "stream",
     "text": [
      "                   x\n",
      "count  100000.000000\n",
      "mean        1.499664\n",
      "std         0.387398\n",
      "min         0.021286\n",
      "25%         1.260849\n",
      "50%         1.587595\n",
      "75%         1.816844\n",
      "max         1.999999\n"
     ]
    },
    {
     "data": {
      "image/png": "[encoded data removed]",
      "text/plain": [
       "<matplotlib.figure.Figure at 0x110c697d0>"
      ]
     },
     "metadata": {},
     "output_type": "display_data"
    },
    {
     "data": {
      "text/plain": [
       "<ggplot: (286026045)>"
      ]
     },
     "execution_count": 41,
     "metadata": {},
     "output_type": "execute_result"
    }
   ],
   "source": [
    "u = np.random.uniform(size=100000)\n",
    "x = 2 * u**.3333\n",
    "\n",
    "df = pd.DataFrame({'x':x})\n",
    "print df.describe()\n",
    "ggplot(aes(x='x'), data=df) + geom_histogram()"
   ]
  },
  {
   "cell_type": "markdown",
   "metadata": {},
   "source": [
    "## Joint Distribution"
   ]
  },
  {
   "cell_type": "markdown",
   "metadata": {},
   "source": [
    "Find the normalizing constant:\n",
    "* $f_{X,Y}(X=x,Y=y) = c(2x + y), 0 \\leq x \\leq 2, 0 \\leq y \\leq 2$ \n",
    "* $1 = \\int_0^2 \\int_0^2 c(2x + y) dy dx$\n",
    "* $  = c\\int_0^2 [2xy + \\frac{1}{2}y^2 + d]_0^2 dx$\n",
    "* $  = c\\int_0^2 [4x + \\frac{1}{2}4 + d - d] dx$\n",
    "* $  = c\\int_0^2 (4x + 2) dx$\n",
    "* $  = c[2x^2 + 2x + d]_0^2$\n",
    "* $  = c[2(4) + 2(2) + d - d]$\n",
    "* $  = 12c$\n",
    "* $c = \\frac{1}{12}$\n",
    "* $f_{X,Y}(X=x,Y=y) = \\frac{1}{12}(2x + y), 0 \\leq x \\leq 2, 0 \\leq y \\leq 2$"
   ]
  },
  {
   "cell_type": "code",
   "execution_count": 5,
   "metadata": {
    "collapsed": true
   },
   "outputs": [],
   "source": [
    "x = np.random.uniform(size=10000)\n",
    "y = np.random.uniform(size=10000)"
   ]
  },
  {
   "cell_type": "markdown",
   "metadata": {},
   "source": [
    "Find the marginal distribution:\n",
    "* $f_{X,Y}(X=x,Y=y) = \\frac{1}{12}(2x + y), 0 \\leq x \\leq 2, 0 \\leq y \\leq 2$\n",
    "* $f_X(X=x) = \\int_0^2 \\frac{1}{12}(2x + y) dy$\n",
    "* $ = \\frac{1}{12}[2xy + \\frac{1}{2}y^2 + d]_0^2$\n",
    "* $ = \\frac{1}{12}[4x + 2 + d - d]$\n",
    "* $ = \\frac{4x + 2}{12}$\n",
    "* $ = \\frac{2x + 1}{6}$"
   ]
  },
  {
   "cell_type": "markdown",
   "metadata": {
    "collapsed": true
   },
   "source": [
    "Inversion sampling example:\n",
    "* $F_X(X=x) = \\int_0^x \\dfrac{2x+1}{6}dx$\n",
    "* $= \\frac{1}{6}[x^2 + x + d]_0^x$\n",
    "* $= \\frac{x(x + 1)}{6}$\n",
    "* $u = \\frac{x^2 + x}{6}$\n",
    "* $0 = x^2 + x - 6u$\n",
    "* $x = \\frac{-1 \\pm \\sqrt{1 + 4 \\times 6u}}{2}$"
   ]
  },
  {
   "cell_type": "code",
   "execution_count": 8,
   "metadata": {
    "collapsed": false
   },
   "outputs": [
    {
     "data": {
      "image/png": "[encoded data removed]",
      "text/plain": [
       "<matplotlib.figure.Figure at 0x10a8978d0>"
      ]
     },
     "metadata": {},
     "output_type": "display_data"
    },
    {
     "data": {
      "text/plain": [
       "<ggplot: (279378645)>"
      ]
     },
     "execution_count": 8,
     "metadata": {},
     "output_type": "execute_result"
    }
   ],
   "source": [
    "u = np.random.uniform(size=100000)\n",
    "x = (-1 + (1 + 24*u)**.5) / 2\n",
    "df = pd.DataFrame({'x':x})\n",
    "ggplot(aes(x='x'), data=df) + geom_histogram()"
   ]
  },
  {
   "cell_type": "code",
   "execution_count": null,
   "metadata": {
    "collapsed": true
   },
   "outputs": [],
   "source": []
  }
 ],
 "metadata": {
  "kernelspec": {
   "display_name": "Python 2",
   "language": "python",
   "name": "python2"
  },
  "language_info": {
   "codemirror_mode": {
    "name": "ipython",
    "version": 2
   },
   "file_extension": ".py",
   "mimetype": "text/x-python",
   "name": "python",
   "nbconvert_exporter": "python",
   "pygments_lexer": "ipython2",
   "version": "2.7.10"
  }
 },
 "nbformat": 4,
 "nbformat_minor": 0
}
