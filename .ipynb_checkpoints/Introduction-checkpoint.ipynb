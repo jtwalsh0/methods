{
 "metadata": {
  "name": "",
  "signature": "sha256:6bea21af4a517ca942234e89862df6b4b0e3652826550a65b5055aa9e9b59bae"
 },
 "nbformat": 3,
 "nbformat_minor": 0,
 "worksheets": [
  {
   "cells": [
    {
     "cell_type": "markdown",
     "metadata": {},
     "source": [
      "**It would be nice to do a Judea Pearl-type DAG**\n",
      "\n",
      "Let's say we're interested in predicting a college-football game. What are all the things that influence the outcome? Here's a list of things that come to mind:\n",
      "\n",
      "* Team A's offensive strength ($A_o$).\n",
      "* Team B's offensive strength ($B_o$).\n",
      "* Team A's defensive strength ($A_d$).\n",
      "* Team B's defensive strength ($B_d$).\n",
      "* Team A's special-teams strength ($A_s$).\n",
      "* Team B's special-teams strength ($B_s$).\n",
      "* Team A's \"heart and determination\" ($A_h$).\n",
      "* Team B's \"heart and determination\" ($B_h$).\n",
      "* Home-field advantage ($H$).\n",
      "* Referees ($R$).\n",
      "\n",
      "Obviously, this list is incomplete: there are missing variables (perhaps each team's previous-week result) and some variables are aggregates of more finely grained variables (for example, offensive abilities is a combination of passing abilities and rushing abilities.) But to make things easy, pretend that only these variables determine the outcome of football games and they do so in the following way:\n",
      "\n",
      "$MOV = (A_o \u2212 B_d) \u2212 (B_o \u2212 A_d) + (A_s \u2212 B_s) + (A_h \u2212 B_h) + H + R$,\n",
      "\n",
      "where $MOV$ is Team A's margin of victory. \n",
      "\n",
      "Given two equal teams ($A_o = B_o$, $A_d = B_d$, $A_s = B_s$, and $A_h = B_h$) and unbiased refs ($R = 0$), A will win by $H$ points.\n",
      "\n",
      "We call this precisely defined relationship between the causes (on the right) and the effect (on the left) the **data-generating process**. This equation is easily interpeted:\n",
      "\n",
      "1. The units must match. Because the left-hand side is measured in points, the right-hand side must be measured in points. And because the right-hand side is a sum, each part of the right-hand side must be measured in points. \n",
      "2. A one-point change in any of these causes changes $MOV$ by one point; for example, increasing $H$ from 2 to 3, holding the other causes constant, increases $MOV$ by 1.\n",
      "3. $(A_o \u2212 B_d)$: A's offensive contribution to $MOV$ depends not only on A's offensive strength but also on B's defensive strength. Each additional point of A's offensive strength increases $MOV$ by one, and each additional point of B's defensive strength decreases $MOV$ by one.\n",
      "4. $\u2212 (B_o \u2212 A_d)$: B's offensive contribution to $MOV$ depends not only on B's offensive strength but also on A's defensive strength. Each additional point of B's offensive strength decreases $MOV$ by one, and each additional point of A's defensive strength increases $MOV$ by one.\n",
      "5. $(A_s \u2212 B_s)$: A's special-teams contribution to $MOV$ depends not only on A's special-teams strength but also on B's special-teams strength. Each additional point of A's special-teams strength increases $MOV$ by one, and each additional point of B's special-teams strength decreases $MOV$ by one.\n",
      "6. $(A_h \u2212 B_h)$: A's heart and determination contributes to $MOV$ only as much as it exceeds B's heart and determination. If B's heart exceeds A's heart, this term is negative.\n",
      "7. $H$: conventional wisdom tells us that this term is positive if A is home and negative if A is away. An $H$ of 3 means that the home team gets the equivalent of an extra field goal by playing at home.\n",
      "8. $R$: The refs can be biased. A positive $R$ means the refs make calls in favor of A, and a negative $R$ means the refs make calls in favor of B."
     ]
    },
    {
     "cell_type": "markdown",
     "metadata": {},
     "source": [
      "# Why Statistics"
     ]
    },
    {
     "cell_type": "markdown",
     "metadata": {},
     "source": [
      "# Random Variable"
     ]
    },
    {
     "cell_type": "markdown",
     "metadata": {},
     "source": [
      "A random variable or stochastic variable is, roughly speaking, a variable whose value results from a measurement on some type of random process.\n",
      "\n",
      "It is easy to confuse random variables with algebraic variables, but the two differ. The value of an algebraic variable is deterministic (i.e. the variable can take multiple values, but given inputs to the deterministic process there is only\n",
      "one possible value that the algebraic variable can take) while the value of a random variable is at least partly determined by a random process (i.e. even if a deterministic process underlies a random variable, knowing inputs to the deterministic process is not good enough to know the value of the random variable with certainty.) Here are a few examples:\n",
      "\n",
      "1. **algebraic variable** y: y = 2x + 3  If we know x, then we know y with certainty. If x = 2, y must equal 7. If x = 1, y cannot equal anything but 5. An algebraic variable like this has a two-way functional relationship: we can calculate x given y (x = (y \u2212 3)) (?).\n",
      "2. **random variable** y: Nature assigns y such that P (y = 1) = .5 and P (y = 0) = .5  In this example, y can take 0 or 1. There is not a deterministic process that determines whether y will equal 1 or 0, so knowing x (or any other potential inputs) does not tell us with certainty what value y will take; y could still take a 0 or 1. Unless the process assigns an outcome with probability 1, it is random.\n",
      "3. **random variable** z: z = 2x + 3 + y  Assume y from the above example. Then knowing x does not tell us with certainty what value z will take. If x = 1, then z could equal 5 or 6 (with equal probability). If x = 4, then z could equal 11 or 12 (with equal probability).  Note that a variable that is a function of a random variable is also a random variable.\n",
      "\n",
      "Often we treat deterministic processes as random because it is simpler to think of them that way. For example, if we knew the exact weight and measurement of a die and the speed, height, rotation, etc. at which it was tossed, we might be able to figure out exactly which side would come up (this has been demonstrated using the coin toss). But getting that information and doing those calculations is a burden, and treating it as random is simpler.\n",
      "\n",
      "Formally, a random variable is a function from a probability space, typically to the real numbers, that is measurable. (For finite probability spaces, the measurable requirement is superfluous.) Random variables can be classified as either discrete\n",
      "(a random variable that may assume either a finite number of values or an infinite sequence of values) or as continuous (a variable that may assume any numerical value in an interval or collection of intervals). A random variable's possible values\n",
      "might represent the possible outcomes of a yet-to-be-performed experiment, or the potential values of a quantity whose already-existing value is uncertain (for example, as a result of incomplete information or imprecise measurements)."
     ]
    },
    {
     "cell_type": "code",
     "collapsed": false,
     "input": [],
     "language": "python",
     "metadata": {},
     "outputs": []
    }
   ],
   "metadata": {}
  }
 ]
}