{
 "cells": [
  {
   "cell_type": "markdown",
   "metadata": {},
   "source": [
    "**It would be nice to do a Judea Pearl-type DAG**\n",
    "\n",
    "Let's say we're interested in predicting a college-football game. What are all the things that influence the outcome? Here's a list of things that come to mind:\n",
    "\n",
    "* Team A's offensive strength ($A_o$).\n",
    "* Team B's offensive strength ($B_o$).\n",
    "* Team A's defensive strength ($A_d$).\n",
    "* Team B's defensive strength ($B_d$).\n",
    "* Team A's special-teams strength ($A_s$).\n",
    "* Team B's special-teams strength ($B_s$).\n",
    "* Team A's \"heart and determination\" ($A_h$).\n",
    "* Team B's \"heart and determination\" ($B_h$).\n",
    "* Home-field advantage ($H$).\n",
    "* Referees ($R$).\n",
    "* Other influences, which I'll call The X Factor.\n",
    "\n",
    "Obviously, this list is incomplete: there are missing variables (perhaps each team's previous-week result) and some variables are aggregates of more finely grained variables (for example, offensive abilities is a combination of passing abilities and rushing abilities.) But to make things easy, pretend that only these variables determine the outcome of football games and they do so in the following way:\n",
    "\n",
    "$MOV = (A_o − B_d) − (B_o − A_d) + (A_s − B_s) + (A_h − B_h) + H + R + X$,\n",
    "\n",
    "where $MOV$ is Team A's margin of victory. $MOV$ can take positive and negative values. A negative $MOV$ means Team B wins.\n",
    "\n",
    "We can use this equation to make predictions. For example, given two equal teams ($A_o = B_o$, $A_d = B_d$, $A_s = B_s$, and $A_h = B_h$) and unbiased refs ($R = 0$), A will win by $H + X$ points.\n",
    "\n",
    "Equations require consistency of units:\n",
    "\n",
    "1. To be equal, quantities must have the same units. Five oranges do not equal five apples, and five miles do not equal five miles per hour. This means the left- and right-hand side equations must have the same units. In our football equation, the left-hand side is expressed in units. Then the right-hand side must be measured in points too.\n",
    "2. We can only add and subtract quantities with the same units. Therefore,   Because the left-hand side is measured in points, the right-hand side must be measured in points. And because the right-hand side is a sum, each part of the right-hand side must be measured in points. \n",
    "\n",
    "We call this precisely defined relationship between the causes (on the right) and the effect (on the left) the **data-generating process**. This equation is easily interpeted:\n",
    "\n",
    "1. A one-point change in any of these causes changes $MOV$ by one point; for example, increasing $H$ from 2 to 3, holding the other causes constant, increases $MOV$ by 1.\n",
    "3. $(A_o − B_d)$: A's offensive contribution to $MOV$ depends not only on A's offensive strength but also on B's defensive strength. Each additional point of A's offensive strength increases $MOV$ by one, and each additional point of B's defensive strength decreases $MOV$ by one.\n",
    "4. $− (B_o − A_d)$: B's offensive contribution to $MOV$ depends not only on B's offensive strength but also on A's defensive strength. Each additional point of B's offensive strength decreases $MOV$ by one, and each additional point of A's defensive strength increases $MOV$ by one.\n",
    "5. $(A_s − B_s)$: A's special-teams contribution to $MOV$ depends not only on A's special-teams strength but also on B's special-teams strength. Each additional point of A's special-teams strength increases $MOV$ by one, and each additional point of B's special-teams strength decreases $MOV$ by one.\n",
    "6. $(A_h − B_h)$: A's heart and determination contributes to $MOV$ only as much as it exceeds B's heart and determination. If B's heart exceeds A's heart, this term is negative.\n",
    "7. $H$: conventional wisdom tells us that this term is positive if A is home and negative if A is away. An $H$ of 3 means that the home team gets the equivalent of an extra field goal by playing at home.\n",
    "8. $R$: The refs can be biased. A positive $R$ means the refs make calls in favor of A, and a negative $R$ means the refs make calls in favor of B.\n",
    "9. $X$: This is a catch-all. Many things can affect the outcome of the game, such as weather, injuries, and unlucky bounces. $X$ captures all of these influences. $X$ is positive if, in the aggregate, these things help A and negative if these things hurt A."
   ]
  },
  {
   "cell_type": "markdown",
   "metadata": {},
   "source": [
    "# Why Statistics\n",
    "If we perfectly knew the values for each part of the right-hand side of the equation, we could perfectly predict the result of each game. Unfortunately, "
   ]
  },
  {
   "cell_type": "markdown",
   "metadata": {},
   "source": [
    "# Random Variable"
   ]
  },
  {
   "cell_type": "markdown",
   "metadata": {},
   "source": [
    "A random variable or stochastic variable is, roughly speaking, a variable whose value results from a measurement on some type of random process.\n",
    "\n",
    "It is easy to confuse random variables with algebraic variables, but the two differ. The value of an algebraic variable is deterministic (i.e. the variable can take multiple values, but given inputs to the deterministic process there is only\n",
    "one possible value that the algebraic variable can take) while the value of a random variable is at least partly determined by a random process (i.e. even if a deterministic process underlies a random variable, knowing inputs to the deterministic process is not good enough to know the value of the random variable with certainty.) Here are a few examples:\n",
    "\n",
    "1. **algebraic variable** y: y = 2x + 3  If we know x, then we know y with certainty. If x = 2, y must equal 7. If x = 1, y cannot equal anything but 5. An algebraic variable like this has a two-way functional relationship: we can calculate x given y (x = (y − 3)) (?).\n",
    "2. **random variable** y: Nature assigns y such that P (y = 1) = .5 and P (y = 0) = .5  In this example, y can take 0 or 1. There is not a deterministic process that determines whether y will equal 1 or 0, so knowing x (or any other potential inputs) does not tell us with certainty what value y will take; y could still take a 0 or 1. Unless the process assigns an outcome with probability 1, it is random.\n",
    "3. **random variable** z: z = 2x + 3 + y  Assume y from the above example. Then knowing x does not tell us with certainty what value z will take. If x = 1, then z could equal 5 or 6 (with equal probability). If x = 4, then z could equal 11 or 12 (with equal probability).  Note that a variable that is a function of a random variable is also a random variable.\n",
    "\n",
    "Often we treat deterministic processes as random because it is simpler to think of them that way. For example, if we knew the exact weight and measurement of a die and the speed, height, rotation, etc. at which it was tossed, we might be able to figure out exactly which side would come up (this has been demonstrated using the coin toss). But getting that information and doing those calculations is a burden, and treating it as random is simpler.\n",
    "\n",
    "Formally, a random variable is a function from a probability space, typically to the real numbers, that is measurable. (For finite probability spaces, the measurable requirement is superfluous.) Random variables can be classified as either discrete\n",
    "(a random variable that may assume either a finite number of values or an infinite sequence of values) or as continuous (a variable that may assume any numerical value in an interval or collection of intervals). A random variable's possible values\n",
    "might represent the possible outcomes of a yet-to-be-performed experiment, or the potential values of a quantity whose already-existing value is uncertain (for example, as a result of incomplete information or imprecise measurements)."
   ]
  },
  {
   "cell_type": "code",
   "execution_count": null,
   "metadata": {
    "collapsed": false
   },
   "outputs": [],
   "source": []
  },
  {
   "cell_type": "markdown",
   "metadata": {},
   "source": [
    "## Power Distribution\n",
    "$f_X(X=x|k) = cx^{-k}$\n",
    "Note that $x$ and $k$ need constraints. For example, if $k = -2$ the distribution doesn't integrate:"
   ]
  },
  {
   "cell_type": "code",
   "execution_count": 7,
   "metadata": {
    "collapsed": false
   },
   "outputs": [
    {
     "data": {
      "image/png": "[encoded data removed]",
      "text/plain": [
       "<matplotlib.figure.Figure at 0x109ad5250>"
      ]
     },
     "metadata": {},
     "output_type": "display_data"
    }
   ],
   "source": [
    "import numpy\n",
    "import matplotlib.pyplot as plt\n",
    "%matplotlib inline\n",
    "\n",
    "x = numpy.linspace(0.1,10,99)\n",
    "y = x**2\n",
    "plt.plot(x,y)\n",
    "plt.show()"
   ]
  },
  {
   "cell_type": "markdown",
   "metadata": {},
   "source": [
    "To force large $x$ toward 0, $k$ needs to be positive. And if $k$ is positive, $x \\geq 1$. "
   ]
  },
  {
   "cell_type": "markdown",
   "metadata": {},
   "source": [
    "Let's find the normalizing constant ($c$):\n",
    "\n",
    "$1 = \\int_{1}^{\\infty} c x^{-k} dx$\n",
    "\n",
    "$1 = c \\bigl[ \\frac{1}{1-k} x^{1-k} + d \\bigr]_{1}^{\\infty}$\n",
    "\n",
    "$1 = \\frac{c}{1-k} \\bigl[ 0 - 1 \\bigr]$\n",
    "\n",
    "$1 = \\frac{c}{k-1}$\n",
    "\n",
    "$c = k-1$\n",
    "\n",
    "So the power law density function is \n",
    "$\\begin{equation}\n",
    "  f_X(X=x | k)=\\begin{cases}\n",
    "    (k-1)x^{-k} & \\text{if }1 \\leq x < \\infty \\text{ and } k \\geq 0 \\\\\n",
    "    0 & \\text{otherwise}.\n",
    "  \\end{cases}\n",
    "\\end{equation}$\n",
    "\n",
    "Here's what $f_X(X=x | k=2)$ looks like:"
   ]
  },
  {
   "cell_type": "code",
   "execution_count": 12,
   "metadata": {
    "collapsed": false
   },
   "outputs": [
    {
     "data": {
      "image/png": "[encoded data removed]",
      "text/plain": [
       "<matplotlib.figure.Figure at 0x109da4290>"
      ]
     },
     "metadata": {},
     "output_type": "display_data"
    }
   ],
   "source": [
    "power_k2 = lambda x: x**-2 if x>=1 else 0\n",
    "x = numpy.linspace(0.1,10,99)\n",
    "y = [power_k2(z) for z in x]\n",
    "plt.plot(x,y)\n",
    "plt.show()"
   ]
  },
  {
   "cell_type": "markdown",
   "metadata": {},
   "source": [
    "Nassim Taleb offered the following quiz that uses a power distribution. Note his typo (\"$q=.07$\" should be \"$q=.007$\"). Using our equation, what is $k$?\n",
    "<img src=\"taleb_tweet.png\", width=500>\n",
    "\n",
    "First integrate the distribution from some $y$ to infinity:\n",
    "$1-F_X(X=x|k) = 1 - \\int_1^y (k-1)x^{-k} dx$\n",
    "\n",
    "$1-F_X(X=x|k) = 1 - \\biggl[ (k-1) \\bigl[ \\frac{1}{1-k} x^{1-k} \\bigr]_1^y \\biggr]$\n",
    "\n",
    "$1-F_X(X=x|k) = 1 - \\biggl[ (-1) \\bigl[ y^{1-k} - 1 \\bigr] \\biggr]$\n",
    "\n",
    "$1-F_X(X=x|k) = 1 - \\biggl[ 1 - y^{1-k} \\biggr]$\n",
    "\n",
    "$1-F_X(X=x|k) = y^{1-k}$\n",
    "\n",
    "Then\n",
    "\n",
    "$.45 = .007^{1-k}$\n",
    "\n",
    "$\\ln{.45} = (1-k) \\ln{.007}$\n",
    "\n",
    "$k = 1 - \\frac{ \\ln{.45} }{ \\ln{.007} }$\n",
    "\n",
    "$k = .84$\n",
    "\n"
   ]
  },
  {
   "cell_type": "code",
   "execution_count": null,
   "metadata": {
    "collapsed": false
   },
   "outputs": [],
   "source": []
  }
 ],
 "metadata": {
  "kernelspec": {
   "display_name": "Python 2",
   "language": "python",
   "name": "python2"
  },
  "language_info": {
   "codemirror_mode": {
    "name": "ipython",
    "version": 2
   },
   "file_extension": ".py",
   "mimetype": "text/x-python",
   "name": "python",
   "nbconvert_exporter": "python",
   "pygments_lexer": "ipython2",
   "version": "2.7.11"
  }
 },
 "nbformat": 4,
 "nbformat_minor": 0
}
